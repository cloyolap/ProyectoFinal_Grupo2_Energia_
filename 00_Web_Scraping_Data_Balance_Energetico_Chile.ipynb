{
 "cells": [
  {
   "cell_type": "code",
   "execution_count": 16,
   "id": "fcd8cea8",
   "metadata": {},
   "outputs": [],
   "source": [
    "from bs4 import BeautifulSoup\n",
    "import requests\n",
    "import subprocess \n",
    "import os"
   ]
  },
  {
   "cell_type": "code",
   "execution_count": 2,
   "id": "31237811",
   "metadata": {},
   "outputs": [],
   "source": [
    "URL = \"http://energiaabierta.cl/visualizaciones/balance-de-energia/\""
   ]
  },
  {
   "cell_type": "code",
   "execution_count": 3,
   "id": "0f6d9b4b",
   "metadata": {},
   "outputs": [],
   "source": [
    "def SolicitarPage(URL,time_sleep):\n",
    "    print(\"\\n............. Procesando Query .....................\\n\")\n",
    "    try:\n",
    "        headers = requests.utils.default_headers()\n",
    "        headers.update({'User-Agent':'Mozilla/5.0 (X11; Linux x86_64; rv:52.0) Gecko/20100101 Firefox/52.0',})\n",
    "        response = requests.get(URL,headers=headers,timeout=time_sleep)\n",
    "        return BeautifulSoup(response.text,\"html5lib\")\n",
    "    except:\n",
    "        print(\"Fallo response...\\n\")\n",
    "        return -1"
   ]
  },
  {
   "cell_type": "code",
   "execution_count": 4,
   "id": "7ab2ddc6",
   "metadata": {},
   "outputs": [
    {
     "name": "stdout",
     "output_type": "stream",
     "text": [
      "\n",
      "............. Procesando Query .....................\n",
      "\n"
     ]
    }
   ],
   "source": [
    "soup = SolicitarPage(URL,5)"
   ]
  },
  {
   "cell_type": "code",
   "execution_count": 5,
   "id": "037f898c",
   "metadata": {},
   "outputs": [],
   "source": [
    "dataset = soup.find_all('div', class_=\"column\")\n",
    "dataset = dataset[0]"
   ]
  },
  {
   "cell_type": "code",
   "execution_count": 6,
   "id": "b3adb1cc",
   "metadata": {
    "scrolled": true
   },
   "outputs": [],
   "source": [
    "def extractYear(temp):\n",
    "    years = []\n",
    "    cadena_temp =\"\"\n",
    "    for i in range(0,len(temp)):\n",
    "        cadena_temp+=str(temp[i])\n",
    "        if(len(cadena_temp)==4):\n",
    "            years.append(cadena_temp)\n",
    "            cadena_temp=str(\"\")\n",
    "    \n",
    "    return years\n",
    "\n",
    "for year in dataset:\n",
    "    temp = year.text.split(\" \")\n",
    "    if(len(temp)>8):\n",
    "        years_scrap = extractYear(temp[8])"
   ]
  },
  {
   "cell_type": "code",
   "execution_count": 7,
   "id": "32e27298",
   "metadata": {},
   "outputs": [
    {
     "name": "stdout",
     "output_type": "stream",
     "text": [
      "2008\n",
      "2009\n",
      "2010\n",
      "2011\n",
      "2012\n",
      "2013\n",
      "2014\n",
      "2015\n",
      "2016\n",
      "2017\n",
      "2018\n",
      "2019\n",
      "2020\n"
     ]
    }
   ],
   "source": [
    "for i in reversed(years_scrap):\n",
    "    print(i)"
   ]
  },
  {
   "cell_type": "code",
   "execution_count": 8,
   "id": "a8d480c2",
   "metadata": {},
   "outputs": [],
   "source": [
    "dataset = soup.find_all('div', class_=\"column\")\n",
    "dataset = dataset[0].form\n",
    "dataset = dataset.find('select')"
   ]
  },
  {
   "cell_type": "code",
   "execution_count": 42,
   "id": "9f261140",
   "metadata": {},
   "outputs": [
    {
     "name": "stdout",
     "output_type": "stream",
     "text": [
      "https://3b9x.short.gy/7VyVoM\n",
      "https://3b9x.short.gy/eBUs6h\n",
      "https://3b9x.short.gy/M9bOgk\n",
      "https://3b9x.short.gy/MnzlmZ\n",
      "https://3b9x.short.gy/3xqGnS\n",
      "https://3b9x.short.gy/yaRm6D\n",
      "https://3b9x.short.gy/BzkTFP\n",
      "https://3b9x.short.gy/S0Tsk3\n",
      "https://3b9x.short.gy/3DHAso\n",
      "https://3b9x.short.gy/phTm2q\n",
      "https://3b9x.short.gy/KiR9Kt\n",
      "https://3b9x.short.gy/7aOwEy\n",
      "https://3b9x.short.gy/bdhqqZ\n"
     ]
    }
   ],
   "source": [
    "data_href = []\n",
    "for item in dataset:\n",
    "    data_href.append(item.get('value'))\n",
    "    print(item.get('value'))"
   ]
  },
  {
   "cell_type": "code",
   "execution_count": 10,
   "id": "ca478a2d",
   "metadata": {},
   "outputs": [],
   "source": [
    "# Extracción de los datos a procesar."
   ]
  },
  {
   "cell_type": "code",
   "execution_count": 45,
   "id": "52e7837a",
   "metadata": {},
   "outputs": [],
   "source": [
    "!mkdir data_directory\n",
    "!chmod -R 777 data_directory"
   ]
  },
  {
   "cell_type": "code",
   "execution_count": 27,
   "id": "6b5c9cfa",
   "metadata": {},
   "outputs": [
    {
     "data": {
      "text/plain": [
       "str"
      ]
     },
     "execution_count": 27,
     "metadata": {},
     "output_type": "execute_result"
    }
   ],
   "source": [
    "ruta = os.getcwd()"
   ]
  },
  {
   "cell_type": "code",
   "execution_count": null,
   "id": "8b89f4c1",
   "metadata": {},
   "outputs": [
    {
     "name": "stderr",
     "output_type": "stream",
     "text": [
      "--2022-05-20 16:38:11--  https://3b9x.short.gy/7VyVoM\n",
      "Resolviendo 3b9x.short.gy (3b9x.short.gy)... 52.2.56.64, 52.21.33.16, 35.168.187.155\n",
      "Conectando con 3b9x.short.gy (3b9x.short.gy)[52.2.56.64]:443... conectado.\n",
      "Petición HTTP enviada, esperando respuesta... 302 Found\n",
      "Localización: https://www.dropbox.com/s/iyg3se4bbcc9kjs/bne_2020.xlsx?dl=1 [siguiendo]\n",
      "--2022-05-20 16:38:11--  https://www.dropbox.com/s/iyg3se4bbcc9kjs/bne_2020.xlsx?dl=1\n",
      "Resolviendo www.dropbox.com (www.dropbox.com)... 162.125.5.18, 2620:100:601d:18::a27d:512\n",
      "Conectando con www.dropbox.com (www.dropbox.com)[162.125.5.18]:443... conectado.\n",
      "Petición HTTP enviada, esperando respuesta... 301 Moved Permanently\n",
      "Localización: /s/dl/iyg3se4bbcc9kjs/bne_2020.xlsx [siguiendo]\n",
      "--2022-05-20 16:38:12--  https://www.dropbox.com/s/dl/iyg3se4bbcc9kjs/bne_2020.xlsx\n",
      "Reutilizando la conexión con www.dropbox.com:443.\n",
      "Petición HTTP enviada, esperando respuesta... 302 Found\n",
      "Localización: https://uc292481df3eacf382b1f1f7172c.dl.dropboxusercontent.com/cd/0/get/BlowHTOZYruCjXfBvTjd8sZYb1v3VCC47sEu4FL8AAwaxK0hzLPdjQ2pIenWMsu6bKcC2gYlTrLF4FBBfdUrHxsn2ScbYS6mtISe7CFUM9RP2DBafOTRbIpF0uhBAJ1Naza_NFHk7-_1RyLVkXhHq2BRhEHxvCXEKb-dCYkZvXKsY6WEobv5mqIoiz-ptLGNiNQ/file?dl=1# [siguiendo]\n",
      "--2022-05-20 16:38:13--  https://uc292481df3eacf382b1f1f7172c.dl.dropboxusercontent.com/cd/0/get/BlowHTOZYruCjXfBvTjd8sZYb1v3VCC47sEu4FL8AAwaxK0hzLPdjQ2pIenWMsu6bKcC2gYlTrLF4FBBfdUrHxsn2ScbYS6mtISe7CFUM9RP2DBafOTRbIpF0uhBAJ1Naza_NFHk7-_1RyLVkXhHq2BRhEHxvCXEKb-dCYkZvXKsY6WEobv5mqIoiz-ptLGNiNQ/file?dl=1\n",
      "Resolviendo uc292481df3eacf382b1f1f7172c.dl.dropboxusercontent.com (uc292481df3eacf382b1f1f7172c.dl.dropboxusercontent.com)... 162.125.5.15, 2620:100:601d:15::a27d:50f\n",
      "Conectando con uc292481df3eacf382b1f1f7172c.dl.dropboxusercontent.com (uc292481df3eacf382b1f1f7172c.dl.dropboxusercontent.com)[162.125.5.15]:443... conectado.\n",
      "Petición HTTP enviada, esperando respuesta... 200 OK\n",
      "Longitud: 455902 (445K) [application/binary]\n",
      "Grabando a: «/home/heinzfeldt/ProyectoFinal_Grupo2_Energia_-main/data_directory/bne_2020.xlsx»\n",
      "\n",
      "     0K .......... .......... .......... .......... .......... 11%  193K 2s\n",
      "    50K .......... .......... .......... .......... .......... 22%  454K 1s\n",
      "   100K .......... .......... .......... .......... .......... 33%  667K 1s\n",
      "   150K .......... .......... .......... .......... .......... 44% 1,08M 1s\n",
      "   200K .......... .......... .......... .......... .......... 56% 1,09M 0s\n",
      "   250K .......... .......... .......... .......... .......... 67% 1,40M 0s\n",
      "   300K .......... .......... .......... .......... .......... 78% 1,39M 0s\n",
      "   350K .......... .......... .......... .......... .......... 89% 1,21M 0s\n",
      "   400K .......... .......... .......... .......... .....     100% 1,84M=0,7s\n",
      "\n",
      "2022-05-20 16:38:14 (665 KB/s) - «/home/heinzfeldt/ProyectoFinal_Grupo2_Energia_-main/data_directory/bne_2020.xlsx» guardado [455902/455902]\n",
      "\n",
      "--2022-05-20 16:38:14--  https://3b9x.short.gy/eBUs6h\n",
      "Resolviendo 3b9x.short.gy (3b9x.short.gy)... 52.21.33.16, 35.168.187.155, 52.2.56.64\n",
      "Conectando con 3b9x.short.gy (3b9x.short.gy)[52.21.33.16]:443... conectado.\n"
     ]
    },
    {
     "name": "stdout",
     "output_type": "stream",
     "text": [
      "Complete for bne_2020.xlsx\n"
     ]
    },
    {
     "name": "stderr",
     "output_type": "stream",
     "text": [
      "Petición HTTP enviada, esperando respuesta... 302 Found\n",
      "Localización: https://www.dropbox.com/s/n8eia963om1dy1r/bne_2019.xlsx?dl=1 [siguiendo]\n",
      "--2022-05-20 16:38:15--  https://www.dropbox.com/s/n8eia963om1dy1r/bne_2019.xlsx?dl=1\n",
      "Resolviendo www.dropbox.com (www.dropbox.com)... 162.125.5.18, 2620:100:601d:18::a27d:512\n",
      "Conectando con www.dropbox.com (www.dropbox.com)[162.125.5.18]:443... conectado.\n",
      "Petición HTTP enviada, esperando respuesta... 301 Moved Permanently\n",
      "Localización: /s/dl/n8eia963om1dy1r/bne_2019.xlsx [siguiendo]\n",
      "--2022-05-20 16:38:16--  https://www.dropbox.com/s/dl/n8eia963om1dy1r/bne_2019.xlsx\n",
      "Reutilizando la conexión con www.dropbox.com:443.\n",
      "Petición HTTP enviada, esperando respuesta... 302 Found\n",
      "Localización: https://uc86ab37664955858f4869a587cd.dl.dropboxusercontent.com/cd/0/get/BlpBxg554o6icn_V3pTKXEAVfuvn1e1z7Aw26hK6b3wgKVo-SD7Lwb1m930tIQy4-f4zQJe1BEoaSkjJvUdN2Viz4RYwg-UzPXi-kcR4oJ7lBScGo_VH-1YiFtY8k-kVYQXqS8HKALlGbn2GT0KdTJgBSF6Y2e2bwjV9hBmUk9tOBhUFZndIq0sDWydO5bJXNs8/file?dl=1# [siguiendo]\n",
      "--2022-05-20 16:38:17--  https://uc86ab37664955858f4869a587cd.dl.dropboxusercontent.com/cd/0/get/BlpBxg554o6icn_V3pTKXEAVfuvn1e1z7Aw26hK6b3wgKVo-SD7Lwb1m930tIQy4-f4zQJe1BEoaSkjJvUdN2Viz4RYwg-UzPXi-kcR4oJ7lBScGo_VH-1YiFtY8k-kVYQXqS8HKALlGbn2GT0KdTJgBSF6Y2e2bwjV9hBmUk9tOBhUFZndIq0sDWydO5bJXNs8/file?dl=1\n",
      "Resolviendo uc86ab37664955858f4869a587cd.dl.dropboxusercontent.com (uc86ab37664955858f4869a587cd.dl.dropboxusercontent.com)... 162.125.5.15, 2620:100:601d:15::a27d:50f\n",
      "Conectando con uc86ab37664955858f4869a587cd.dl.dropboxusercontent.com (uc86ab37664955858f4869a587cd.dl.dropboxusercontent.com)[162.125.5.15]:443... conectado.\n",
      "Petición HTTP enviada, esperando respuesta... 200 OK\n",
      "Longitud: 464690 (454K) [application/binary]\n",
      "Grabando a: «/home/heinzfeldt/ProyectoFinal_Grupo2_Energia_-main/data_directory/bne_2019.xlsx»\n",
      "\n",
      "     0K .......... .......... .......... .......... .......... 11%  198K 2s\n",
      "    50K .......... .......... .......... .......... .......... 22%  452K 1s\n",
      "   100K .......... .......... .......... .......... .......... 33%  711K 1s\n",
      "   150K .......... .......... .......... .......... .......... 44% 1007K 1s\n",
      "   200K .......... .......... .......... .......... .......... 55%  911K 0s\n",
      "   250K .......... .......... .......... .......... .......... 66% 1,61M 0s\n",
      "   300K .......... .......... .......... .......... .......... 77% 1,62M 0s\n",
      "   350K .......... .......... .......... .......... .......... 88% 1,08M 0s\n",
      "   400K .......... .......... .......... .......... .......... 99% 5,13M 0s\n",
      "   450K ...                                                   100% 7,08T=0,7s\n",
      "\n",
      "2022-05-20 16:38:18 (695 KB/s) - «/home/heinzfeldt/ProyectoFinal_Grupo2_Energia_-main/data_directory/bne_2019.xlsx» guardado [464690/464690]\n",
      "\n",
      "--2022-05-20 16:38:18--  https://3b9x.short.gy/M9bOgk\n"
     ]
    },
    {
     "name": "stdout",
     "output_type": "stream",
     "text": [
      "Complete for bne_2019.xlsx\n"
     ]
    },
    {
     "name": "stderr",
     "output_type": "stream",
     "text": [
      "Resolviendo 3b9x.short.gy (3b9x.short.gy)... 35.168.187.155, 52.2.56.64, 52.21.33.16\n",
      "Conectando con 3b9x.short.gy (3b9x.short.gy)[35.168.187.155]:443... conectado.\n",
      "Petición HTTP enviada, esperando respuesta... 302 Found\n",
      "Localización: https://www.dropbox.com/s/a7cvqt12d16jn0e/bne_2018.xlsx?dl=1 [siguiendo]\n",
      "--2022-05-20 16:38:19--  https://www.dropbox.com/s/a7cvqt12d16jn0e/bne_2018.xlsx?dl=1\n",
      "Resolviendo www.dropbox.com (www.dropbox.com)... 162.125.5.18, 2620:100:601d:18::a27d:512\n",
      "Conectando con www.dropbox.com (www.dropbox.com)[162.125.5.18]:443... conectado.\n",
      "Petición HTTP enviada, esperando respuesta... 301 Moved Permanently\n",
      "Localización: /s/dl/a7cvqt12d16jn0e/bne_2018.xlsx [siguiendo]\n",
      "--2022-05-20 16:38:20--  https://www.dropbox.com/s/dl/a7cvqt12d16jn0e/bne_2018.xlsx\n",
      "Reutilizando la conexión con www.dropbox.com:443.\n",
      "Petición HTTP enviada, esperando respuesta... 302 Found\n",
      "Localización: https://uc9c620783d450f243278c4543ed.dl.dropboxusercontent.com/cd/0/get/Blo8n-8UzEQKS_SFF2M43apiXgtTkfYRXu6FmXiWIvbhGvJG57tfK3BAapyRffB5mt0-blV5qC-XAi5qv5F-wPBsHLp_7ZVq0gs6yt1M-NRorm52J0D5OByzFCrGZ4PEqH8M7LvPsGXq3l1_9S1Hj65_D0QuM4Bo9aCD097jIhwyhSmQQoGp98-7V7n3bgBX_zY/file?dl=1# [siguiendo]\n",
      "--2022-05-20 16:38:20--  https://uc9c620783d450f243278c4543ed.dl.dropboxusercontent.com/cd/0/get/Blo8n-8UzEQKS_SFF2M43apiXgtTkfYRXu6FmXiWIvbhGvJG57tfK3BAapyRffB5mt0-blV5qC-XAi5qv5F-wPBsHLp_7ZVq0gs6yt1M-NRorm52J0D5OByzFCrGZ4PEqH8M7LvPsGXq3l1_9S1Hj65_D0QuM4Bo9aCD097jIhwyhSmQQoGp98-7V7n3bgBX_zY/file?dl=1\n",
      "Resolviendo uc9c620783d450f243278c4543ed.dl.dropboxusercontent.com (uc9c620783d450f243278c4543ed.dl.dropboxusercontent.com)... 162.125.5.15, 2620:100:601d:15::a27d:50f\n",
      "Conectando con uc9c620783d450f243278c4543ed.dl.dropboxusercontent.com (uc9c620783d450f243278c4543ed.dl.dropboxusercontent.com)[162.125.5.15]:443... conectado.\n",
      "Petición HTTP enviada, esperando respuesta... 200 OK\n",
      "Longitud: 609961 (596K) [application/binary]\n",
      "Grabando a: «/home/heinzfeldt/ProyectoFinal_Grupo2_Energia_-main/data_directory/bne_2018.xlsx»\n",
      "\n",
      "     0K .......... .......... .......... .......... ..........  8%  182K 3s\n",
      "    50K .......... .......... .......... .......... .......... 16%  435K 2s\n",
      "   100K .......... .......... .......... .......... .......... 25%  714K 1s\n",
      "   150K .......... .......... .......... .......... .......... 33%  903K 1s\n",
      "   200K .......... .......... .......... .......... .......... 41% 1,10M 1s\n",
      "   250K .......... .......... .......... .......... .......... 50% 1,12M 1s\n",
      "   300K .......... .......... .......... .......... .......... 58% 2,24M 0s\n",
      "   350K .......... .......... .......... .......... .......... 67% 1,68M 0s\n",
      "   400K .......... .......... .......... .......... .......... 75% 1,85M 0s\n",
      "   450K .......... .......... .......... .......... .......... 83% 1,98M 0s\n",
      "   500K .......... .......... .......... .......... .......... 92% 1,93M 0s\n",
      "   550K .......... .......... .......... .......... .....     100% 7,83M=0,7s\n",
      "\n",
      "2022-05-20 16:38:22 (810 KB/s) - «/home/heinzfeldt/ProyectoFinal_Grupo2_Energia_-main/data_directory/bne_2018.xlsx» guardado [609961/609961]\n",
      "\n",
      "--2022-05-20 16:38:22--  https://3b9x.short.gy/MnzlmZ\n",
      "Resolviendo 3b9x.short.gy (3b9x.short.gy)... 52.2.56.64, 52.21.33.16, 35.168.187.155\n",
      "Conectando con 3b9x.short.gy (3b9x.short.gy)[52.2.56.64]:443... "
     ]
    },
    {
     "name": "stdout",
     "output_type": "stream",
     "text": [
      "Complete for bne_2018.xlsx\n"
     ]
    },
    {
     "name": "stderr",
     "output_type": "stream",
     "text": [
      "conectado.\n",
      "Petición HTTP enviada, esperando respuesta... 302 Found\n",
      "Localización: https://www.dropbox.com/s/rnztdt9xc1efa0x/bne_2017.xlsx?dl=1 [siguiendo]\n",
      "--2022-05-20 16:38:23--  https://www.dropbox.com/s/rnztdt9xc1efa0x/bne_2017.xlsx?dl=1\n",
      "Resolviendo www.dropbox.com (www.dropbox.com)... 162.125.5.18, 2620:100:601d:18::a27d:512\n",
      "Conectando con www.dropbox.com (www.dropbox.com)[162.125.5.18]:443... conectado.\n",
      "Petición HTTP enviada, esperando respuesta... 301 Moved Permanently\n",
      "Localización: /s/dl/rnztdt9xc1efa0x/bne_2017.xlsx [siguiendo]\n",
      "--2022-05-20 16:38:24--  https://www.dropbox.com/s/dl/rnztdt9xc1efa0x/bne_2017.xlsx\n",
      "Reutilizando la conexión con www.dropbox.com:443.\n",
      "Petición HTTP enviada, esperando respuesta... 302 Found\n",
      "Localización: https://uc6651695ae6bdae7414399c33e5.dl.dropboxusercontent.com/cd/0/get/BlpKVhhgiZbEla2iAxKJP1HIOrnVlxYDtp4-dn6kI3dxQ9ENE0flAh3f6HLDXWJCOxOBzC8zsukoqU44fVoirhOXjW5ADONlxYRV258OaR-E6BvZOJ7nnTbwJW-on6meRHKD5EGnR2nS6Q3VFqK7LmjrJK3J8J3ysvwLT4yToKg2kgvvlaVikZYLI7Uq3SIsZHk/file?dl=1# [siguiendo]\n",
      "--2022-05-20 16:38:24--  https://uc6651695ae6bdae7414399c33e5.dl.dropboxusercontent.com/cd/0/get/BlpKVhhgiZbEla2iAxKJP1HIOrnVlxYDtp4-dn6kI3dxQ9ENE0flAh3f6HLDXWJCOxOBzC8zsukoqU44fVoirhOXjW5ADONlxYRV258OaR-E6BvZOJ7nnTbwJW-on6meRHKD5EGnR2nS6Q3VFqK7LmjrJK3J8J3ysvwLT4yToKg2kgvvlaVikZYLI7Uq3SIsZHk/file?dl=1\n",
      "Resolviendo uc6651695ae6bdae7414399c33e5.dl.dropboxusercontent.com (uc6651695ae6bdae7414399c33e5.dl.dropboxusercontent.com)... 162.125.5.15, 2620:100:601d:15::a27d:50f\n",
      "Conectando con uc6651695ae6bdae7414399c33e5.dl.dropboxusercontent.com (uc6651695ae6bdae7414399c33e5.dl.dropboxusercontent.com)[162.125.5.15]:443... conectado.\n",
      "Petición HTTP enviada, esperando respuesta... 200 OK\n",
      "Longitud: 347250 (339K) [application/binary]\n",
      "Grabando a: «/home/heinzfeldt/ProyectoFinal_Grupo2_Energia_-main/data_directory/bne_2017.xlsx»\n",
      "\n",
      "     0K .......... .......... .......... .......... .......... 14%  183K 2s\n",
      "    50K .......... .......... .......... .......... .......... 29%  393K 1s\n",
      "   100K .......... .......... .......... .......... .......... 44%  812K 1s\n",
      "   150K .......... .......... .......... .......... .......... 58%  913K 0s\n",
      "   200K .......... .......... .......... .......... .......... 73% 1,06M 0s\n",
      "   250K .......... .......... .......... .......... .......... 88% 1,43M 0s\n",
      "   300K .......... .......... .......... .........            100% 1,54M=0,6s\n",
      "\n",
      "2022-05-20 16:38:26 (545 KB/s) - «/home/heinzfeldt/ProyectoFinal_Grupo2_Energia_-main/data_directory/bne_2017.xlsx» guardado [347250/347250]\n",
      "\n"
     ]
    },
    {
     "name": "stdout",
     "output_type": "stream",
     "text": [
      "Complete for bne_2017.xlsx\n"
     ]
    },
    {
     "name": "stderr",
     "output_type": "stream",
     "text": [
      "--2022-05-20 16:38:26--  https://3b9x.short.gy/3xqGnS\n",
      "Resolviendo 3b9x.short.gy (3b9x.short.gy)... 52.21.33.16, 35.168.187.155, 52.2.56.64\n",
      "Conectando con 3b9x.short.gy (3b9x.short.gy)[52.21.33.16]:443... conectado.\n"
     ]
    }
   ],
   "source": [
    "count=0\n",
    "for i in years_scrap:\n",
    "    command = f\"wget --content-disposition --trust-server-names {data_href[count]} -P {ruta}/data_directory/\"\n",
    "    subprocess.call(command.split())\n",
    "    print(f\"Complete for bne_{i}.xlsx\")\n",
    "    count+=1"
   ]
  },
  {
   "cell_type": "code",
   "execution_count": null,
   "id": "07de0980",
   "metadata": {},
   "outputs": [],
   "source": []
  }
 ],
 "metadata": {
  "kernelspec": {
   "display_name": "Python 3 (ipykernel)",
   "language": "python",
   "name": "python3"
  },
  "language_info": {
   "codemirror_mode": {
    "name": "ipython",
    "version": 3
   },
   "file_extension": ".py",
   "mimetype": "text/x-python",
   "name": "python",
   "nbconvert_exporter": "python",
   "pygments_lexer": "ipython3",
   "version": "3.9.7"
  }
 },
 "nbformat": 4,
 "nbformat_minor": 5
}
