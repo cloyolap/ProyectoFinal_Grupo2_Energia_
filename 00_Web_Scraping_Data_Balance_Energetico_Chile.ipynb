{
 "cells": [
  {
   "cell_type": "code",
   "execution_count": 16,
   "id": "b634e661",
   "metadata": {},
   "outputs": [],
   "source": [
    "from bs4 import BeautifulSoup\n",
    "import requests\n",
    "import subprocess \n",
    "import os"
   ]
  },
  {
   "cell_type": "code",
   "execution_count": 2,
   "id": "71d1118f",
   "metadata": {},
   "outputs": [],
   "source": [
    "URL = \"http://energiaabierta.cl/visualizaciones/balance-de-energia/\""
   ]
  },
  {
   "cell_type": "code",
   "execution_count": 3,
   "id": "779808d8",
   "metadata": {},
   "outputs": [],
   "source": [
    "def SolicitarPage(URL,time_sleep):\n",
    "    print(\"\\n............. Procesando Query .....................\\n\")\n",
    "    try:\n",
    "        headers = requests.utils.default_headers()\n",
    "        headers.update({'User-Agent':'Mozilla/5.0 (X11; Linux x86_64; rv:52.0) Gecko/20100101 Firefox/52.0',})\n",
    "        response = requests.get(URL,headers=headers,timeout=time_sleep)\n",
    "        return BeautifulSoup(response.text,\"html5lib\")\n",
    "    except:\n",
    "        print(\"Fallo response...\\n\")\n",
    "        return -1"
   ]
  },
  {
   "cell_type": "code",
   "execution_count": 4,
   "id": "5a542f37",
   "metadata": {},
   "outputs": [
    {
     "name": "stdout",
     "output_type": "stream",
     "text": [
      "\n",
      "............. Procesando Query .....................\n",
      "\n"
     ]
    }
   ],
   "source": [
    "soup = SolicitarPage(URL,5)"
   ]
  },
  {
   "cell_type": "code",
   "execution_count": 5,
   "id": "1c0f7f54",
   "metadata": {},
   "outputs": [],
   "source": [
    "dataset = soup.find_all('div', class_=\"column\")\n",
    "dataset = dataset[0]"
   ]
  },
  {
   "cell_type": "code",
   "execution_count": 6,
   "id": "27172583",
   "metadata": {
    "scrolled": true
   },
   "outputs": [],
   "source": [
    "def extractYear(temp):\n",
    "    years = []\n",
    "    cadena_temp =\"\"\n",
    "    for i in range(0,len(temp)):\n",
    "        cadena_temp+=str(temp[i])\n",
    "        if(len(cadena_temp)==4):\n",
    "            years.append(cadena_temp)\n",
    "            cadena_temp=str(\"\")\n",
    "    \n",
    "    return years\n",
    "\n",
    "for year in dataset:\n",
    "    temp = year.text.split(\" \")\n",
    "    if(len(temp)>8):\n",
    "        years_scrap = extractYear(temp[8])"
   ]
  },
  {
   "cell_type": "code",
   "execution_count": 7,
   "id": "df5d6b8c",
   "metadata": {},
   "outputs": [
    {
     "name": "stdout",
     "output_type": "stream",
     "text": [
      "2008\n",
      "2009\n",
      "2010\n",
      "2011\n",
      "2012\n",
      "2013\n",
      "2014\n",
      "2015\n",
      "2016\n",
      "2017\n",
      "2018\n",
      "2019\n",
      "2020\n"
     ]
    }
   ],
   "source": [
    "for i in reversed(years_scrap):\n",
    "    print(i)"
   ]
  },
  {
   "cell_type": "code",
   "execution_count": 8,
   "id": "b47b54ea",
   "metadata": {},
   "outputs": [],
   "source": [
    "dataset = soup.find_all('div', class_=\"column\")\n",
    "dataset = dataset[0].form\n",
    "dataset = dataset.find('select')"
   ]
  },
  {
   "cell_type": "code",
   "execution_count": 42,
   "id": "a295de86",
   "metadata": {},
   "outputs": [
    {
     "name": "stdout",
     "output_type": "stream",
     "text": [
      "https://3b9x.short.gy/7VyVoM\n",
      "https://3b9x.short.gy/eBUs6h\n",
      "https://3b9x.short.gy/M9bOgk\n",
      "https://3b9x.short.gy/MnzlmZ\n",
      "https://3b9x.short.gy/3xqGnS\n",
      "https://3b9x.short.gy/yaRm6D\n",
      "https://3b9x.short.gy/BzkTFP\n",
      "https://3b9x.short.gy/S0Tsk3\n",
      "https://3b9x.short.gy/3DHAso\n",
      "https://3b9x.short.gy/phTm2q\n",
      "https://3b9x.short.gy/KiR9Kt\n",
      "https://3b9x.short.gy/7aOwEy\n",
      "https://3b9x.short.gy/bdhqqZ\n"
     ]
    }
   ],
   "source": [
    "data_href = []\n",
    "for item in dataset:\n",
    "    data_href.append(item.get('value'))\n",
    "    print(item.get('value'))"
   ]
  },
  {
   "cell_type": "code",
   "execution_count": 10,
   "id": "e7de834b",
   "metadata": {},
   "outputs": [],
   "source": [
    "# Extracción de los datos a procesar."
   ]
  },
  {
   "cell_type": "code",
   "execution_count": 45,
   "id": "307d796e",
   "metadata": {},
   "outputs": [],
   "source": [
    "!mkdir data_directory\n",
    "!chmod -R 777 data_directory"
   ]
  },
  {
   "cell_type": "code",
   "execution_count": 27,
   "id": "640a556f",
   "metadata": {},
   "outputs": [
    {
     "data": {
      "text/plain": [
       "str"
      ]
     },
     "execution_count": 27,
     "metadata": {},
     "output_type": "execute_result"
    }
   ],
   "source": [
    "ruta = os.getcwd()"
   ]
  },
  {
   "cell_type": "code",
   "execution_count": null,
   "id": "79ec673e",
   "metadata": {},
   "outputs": [
    {
     "name": "stdout",
     "output_type": "stream",
     "text": [
      "Complete for 2020\n",
      "Complete for 2019\n",
      "Complete for 2018\n",
      "Complete for 2017\n",
      "Complete for 2016\n",
      "Complete for 2015\n",
      "Complete for 2014\n",
      "Complete for 2013\n",
      "Complete for 2012\n"
     ]
    }
   ],
   "source": [
    "count=0\n",
    "for i in years_scrap:\n",
    "    command = f\"wget -o {ruta}/data_directory/{i}.xlsx {data_href[count]}\"\n",
    "    #print(command)\n",
    "    subprocess.call(command.split(),shell=True)\n",
    "    print(f\"Complete for {i}\")\n",
    "    count+=1"
   ]
  },
  {
   "cell_type": "code",
   "execution_count": null,
   "id": "082d8008",
   "metadata": {},
   "outputs": [],
   "source": []
  }
 ],
 "metadata": {
  "kernelspec": {
   "display_name": "Python 3 (ipykernel)",
   "language": "python",
   "name": "python3"
  },
  "language_info": {
   "codemirror_mode": {
    "name": "ipython",
    "version": 3
   },
   "file_extension": ".py",
   "mimetype": "text/x-python",
   "name": "python",
   "nbconvert_exporter": "python",
   "pygments_lexer": "ipython3",
   "version": "3.9.7"
  }
 },
 "nbformat": 4,
 "nbformat_minor": 5
}
