{
 "cells": [
  {
   "cell_type": "code",
   "execution_count": 1,
   "id": "e92a56cb",
   "metadata": {},
   "outputs": [],
   "source": [
    "import pandas as pd\n",
    "import os\n",
    "from functools import partial"
   ]
  },
  {
   "cell_type": "code",
   "execution_count": 2,
   "id": "3ff29ae1",
   "metadata": {},
   "outputs": [],
   "source": [
    "def load_files(data_directory):\n",
    "    dirs = [d for d in os.listdir(data_directory)\n",
    "        if os.path.isdir(os.path.join(data_directory,d))]\n",
    "    files  = []\n",
    "    for d in dirs:\n",
    "        label_dir = os.path.join(data_directory,d)\n",
    "        files_names = [os.path.join(label_dir,f)\n",
    "                        for f in os.listdir(label_dir)\n",
    "                        if f.endswith(\".xlsx\") or f.endswith(\".XLSX\")]\n",
    "        for k in files_names:\n",
    "            if \"xlsx\"==k.split(\".\")[1]:\n",
    "                files.append([\"csv\",k,pd.read_excel(k)])\n",
    "    return files\n",
    "\n",
    "def concatFiles(files):\n",
    "    return pd.concat([files[i][2] for i in range(len(files))],axis=0)"
   ]
  },
  {
   "cell_type": "code",
   "execution_count": 3,
   "id": "61a4f7a2",
   "metadata": {},
   "outputs": [],
   "source": [
    "main_path = \"./data_directory/\"\n",
    "total_files = load_files(main_path)"
   ]
  },
  {
   "cell_type": "code",
   "execution_count": 4,
   "id": "62afc54c",
   "metadata": {},
   "outputs": [],
   "source": [
    "#[f\"id-{i}_PATH_: {total_files[i][1]}\" for i in range(len(total_files))]"
   ]
  },
  {
   "cell_type": "code",
   "execution_count": 5,
   "id": "c50770b8",
   "metadata": {},
   "outputs": [],
   "source": [
    "def genDictionary():\n",
    "    col_index = ['Oferta','C. transfo.','Consumo_final']\n",
    "\n",
    "    col_index_final = ['Sec. Consumo_propio','Sec. Industrial_y_minero',\n",
    "                        'Sec. Transporte','Sec. Comercial_publ_residential']\n",
    "\n",
    "    col_df = ['Energeticos_primarios','Derivados_Petroleos','Electricidad Gwh',\n",
    "              'Derivados_Carbon','Gas_Corriente Mill m3','Metanol Mill ton','Total']\n",
    "    struct_data = {}\n",
    "    for i in range(len(col_index)):\n",
    "        col_gen_id = col_index[i]\n",
    "        struct_data[col_gen_id]={}\n",
    "        if col_index[i]=='Consumo_final':\n",
    "            for j in range(len(col_index_final)):\n",
    "                struct_data[col_gen_id][col_index_final[j]]= {}\n",
    "                for p in range(len(col_index_final)):\n",
    "                    struct_data[col_gen_id][col_index_final[j]][f'col_{p}']={}\n",
    "                    for k in range(len(col_df)):\n",
    "                        struct_data[col_gen_id][col_index_final[j]][f'col_{p}'][col_df[k]]={}\n",
    "        else:\n",
    "            for j in range(len(col_df)):\n",
    "                struct_data[col_gen_id][col_df[j]]={}\n",
    "    return struct_data\n",
    "\n",
    "def genDictionaryS():\n",
    "    col_index = ['Oferta','C. transfo.','Consumo_final']\n",
    "\n",
    "    col_index_final = ['Sec. Consumo_propio','Sec. Industrial_y_minero',\n",
    "                        'Sec. Transporte','Sec. Comercial_publ_residential']\n",
    "\n",
    "    col_df = ['Energeticos_primarios','Derivados_Petroleos','Electricidad Gwh',\n",
    "              'Derivados_Carbon','Metanol Mill ton','Total']\n",
    "    struct_data = {}\n",
    "    for i in range(len(col_index)):\n",
    "        col_gen_id = col_index[i]\n",
    "        struct_data[col_gen_id]={}\n",
    "        if col_index[i]=='Consumo_final':\n",
    "            for j in range(len(col_index_final)):\n",
    "                struct_data[col_gen_id][col_index_final[j]]= {}\n",
    "                for p in range(len(col_index_final)):\n",
    "                    struct_data[col_gen_id][col_index_final[j]][f'col_{p}']={}\n",
    "                    for k in range(len(col_df)):\n",
    "                        struct_data[col_gen_id][col_index_final[j]][f'col_{p}'][col_df[k]]={}\n",
    "        else:\n",
    "            for j in range(len(col_df)):\n",
    "                struct_data[col_gen_id][col_df[j]]={}\n",
    "    return struct_data\n",
    "\n",
    "def load_excel(x,total_files,col_targets):\n",
    "    xls = pd.ExcelFile(total_files[x][1])\n",
    "    col = \"Balance\"\n",
    "    dataframes={}\n",
    "    if(x==2):\n",
    "        dataframes[col] = xls.parse(col_targets[0],header=4)\n",
    "    else:\n",
    "        if(x==6):\n",
    "            dataframes[col] = xls.parse(col_targets[2],header=4)\n",
    "        else:\n",
    "            dataframes[col] = xls.parse(str(col_targets[1]),header=4)\n",
    "    xls.close()\n",
    "    return dataframes[col].iloc[:,1:]\n",
    "\n",
    "def transfoDataOferta(x,data,template,titles_offer):\n",
    "    col_df = ['Energeticos_primarios','Derivados_Petroleos','Electricidad Gwh',\n",
    "              'Derivados_Carbon','Gas_Corriente Mill m3','Metanol Mill ton','Total']\n",
    "    col_unit = 'Oferta'\n",
    "    map_index_col = [[0,9],[9,20],[20,21],[21,25],[25,26],[26,27],[27,28]]\n",
    "    if(x==5):\n",
    "        col_df = ['Energeticos_primarios','Derivados_Petroleos','Electricidad Gwh',\n",
    "              'Derivados_Carbon','Metanol Mill ton','Total']\n",
    "        map_index_col = [[1,10],[10,21],[21,22],[22,26],[26,27],[27,28]]\n",
    "        titles_x = extractColTitles(data,True)\n",
    "        template = genDictionaryS()\n",
    "        for i in range(len(col_df)):\n",
    "            data_temp = data[x].iloc[:8,map_index_col[i][0]:map_index_col[i][1]]\n",
    "            data_temp.columns = titles_x[i]\n",
    "            template[col_unit][col_df[i]] = data_temp\n",
    "        return template\n",
    "\n",
    "    else:\n",
    "        for i in range(len(col_df)):\n",
    "            data_temp = data[x].iloc[3:11,map_index_col[i][0]:map_index_col[i][1]]\n",
    "            data_temp.columns = titles_offer[i]\n",
    "            template[col_unit][col_df[i]] = data_temp\n",
    "        return template\n",
    "\n",
    "\n",
    "def transfoDataConsumptionTransfo(x,data,template,titles_offer):\n",
    "    col_df = ['Energeticos_primarios','Derivados_Petroleos','Electricidad Gwh',\n",
    "              'Derivados_Carbon','Gas_Corriente Mill m3','Metanol Mill ton','Total']\n",
    "    col_unit = 'C. transfo.'\n",
    "    map_index_col = [[0,9],[9,20],[20,21],[21,25],[25,26],[26,27],[27,28]]\n",
    "    if(x==5):\n",
    "        col_df = ['Energeticos_primarios','Derivados_Petroleos','Electricidad Gwh',\n",
    "              'Derivados_Carbon','Metanol Mill ton','Total']\n",
    "        map_index_col = [[1,10],[10,21],[21,22],[22,26],[26,27],[27,28]]\n",
    "        titles_x = extractColTitles(data,True)\n",
    "        template = genDictionaryS()\n",
    "        for i in range(len(col_df)):\n",
    "            data_temp = data[x].iloc[11:21,map_index_col[i][0]:map_index_col[i][1]]\n",
    "            data_temp.columns = titles_x[i]\n",
    "            template[col_unit][col_df[i]] = data_temp\n",
    "        return template\n",
    "    else:\n",
    "        for i in range(len(col_df)):\n",
    "            data_temp = data[x].iloc[11:21,map_index_col[i][0]:map_index_col[i][1]]\n",
    "            data_temp.columns = titles_offer[i]\n",
    "            template[col_unit][col_df[i]] = data_temp\n",
    "        return template\n",
    "\n",
    "def transfoDataConsumptionFinal(x,data,template,titles_offer):\n",
    "    templ = template\n",
    "    col_unit = 'Consumo_final'\n",
    "    col_index_final = ['Sec. Consumo_propio','Sec. Industrial_y_minero',\n",
    "                        'Sec. Transporte','Sec. Comercial_publ_residential']\n",
    "    col_df = ['Energeticos_primarios','Derivados_Petroleos','Electricidad Gwh',\n",
    "              'Derivados_Carbon','Gas_Corriente Mill m3','Metanol Mill ton','Total']\n",
    "    \n",
    "    if(x==5):\n",
    "        col_df = ['Energeticos_primarios','Derivados_Petroleos','Electricidad Gwh',\n",
    "              'Derivados_Carbon','Metanol Mill ton','Total']\n",
    "        templ = genDictionaryS()\n",
    "        indices_map = [[17,25],[25,37],[37,42],[42,47]]\n",
    "        indices_map_cols = [[1,10],[10,21],[21,22],[22,26],[26,27],[27,28]]\n",
    "        titles_x = extractColTitles(data,True)\n",
    "        for index in range(len(col_index_final)):\n",
    "            for j in range(len(indices_map)):\n",
    "                for p in range(len(indices_map)):\n",
    "                    for k in range(len(indices_map_cols)):\n",
    "                        ### filtrado para cada uno\n",
    "                        data_temp = data[x].iloc[indices_map[p][0]:indices_map[p][1],\n",
    "                                                 indices_map_cols[k][0]:indices_map_cols[k][1]]\n",
    "                        data_temp.columns = titles_offer[k]\n",
    "                        templ[col_unit][col_index_final[index]][f'col_{p}'][col_df[k]] = data_temp\n",
    "                        #print(f\"({index},{j},{k})---{}\")\n",
    "        return templ\n",
    "    else:\n",
    "        indices_map = [[21,29],[29,41],[41,46],[46,51]]\n",
    "        indices_map_cols = [[0,9],[9,20],[20,21],[21,25],[25,26],[26,27],[27,28]]\n",
    "        for index in range(len(col_index_final)):\n",
    "            for j in range(len(indices_map)):\n",
    "                for p in range(len(indices_map)):\n",
    "                    for k in range(len(indices_map_cols)):\n",
    "                        ### filtrado para cada uno\n",
    "                        data_temp = data[x].iloc[indices_map[p][0]:indices_map[p][1],\n",
    "                                                 indices_map_cols[k][0]:indices_map_cols[k][1]]\n",
    "                        data_temp.columns = titles_offer[k]\n",
    "                        templ[col_unit][col_index_final[index]][f'col_{p}'][col_df[k]] = data_temp\n",
    "                        #print(f\"({index},{j},{k})---{}\")\n",
    "        return templ\n"
   ]
  },
  {
   "cell_type": "code",
   "execution_count": 6,
   "id": "9eaf265f",
   "metadata": {},
   "outputs": [],
   "source": [
    "#generar diccionario\n",
    "base = genDictionary()"
   ]
  },
  {
   "cell_type": "code",
   "execution_count": 7,
   "id": "0e2b6038",
   "metadata": {},
   "outputs": [],
   "source": [
    "col_targets = [\"Balance Energético (u.físicas) \",\"Balance Energético (u.físicas)\",\"Balance energético (u.físicas)\"]\n",
    "result = []\n",
    "\n",
    "for i in range(2,len(total_files)-5):\n",
    "    #print(f'id_{i} -- - Dimension: {load_excel(i,total_files,col_targets).shape}\\n')\n",
    "    #print(load_excel(i,total_files,col_targets).head(1).values)\n",
    "    result.append(load_excel(i,total_files,col_targets))"
   ]
  },
  {
   "cell_type": "code",
   "execution_count": 8,
   "id": "58dd5f46",
   "metadata": {
    "scrolled": true
   },
   "outputs": [],
   "source": [
    "#[result[i].shape for i in range(len(result))]"
   ]
  },
  {
   "cell_type": "code",
   "execution_count": 9,
   "id": "6c549d5c",
   "metadata": {},
   "outputs": [],
   "source": [
    "#result[10].iloc[21:,:]"
   ]
  },
  {
   "cell_type": "code",
   "execution_count": 10,
   "id": "7266da99",
   "metadata": {},
   "outputs": [],
   "source": [
    "#result[6].iloc[21:29,:]"
   ]
  },
  {
   "cell_type": "code",
   "execution_count": 11,
   "id": "573cbfb0",
   "metadata": {},
   "outputs": [],
   "source": [
    "def extractColTitles(data,L):\n",
    "    title_ofer_eprimary = data[0].iloc[2:3,0:9].values[0].tolist()[1:]\n",
    "    title_ofer_eprimary = [\"Item\"]+title_ofer_eprimary\n",
    "    title_ofer_der_petro = data[0].iloc[2:3,9:20].values[0].tolist()\n",
    "    title_ofer_electricity = ['Electricidad (Gwh)']\n",
    "    title_ofer_der_carbon = data[0].iloc[2:3,21:25].values[0].tolist()\n",
    "    title_ofer_gas_corriente = data[0].iloc[1:2,25:26].values[0]\n",
    "    title_ofer_metanol = data[0].iloc[1:2,26:27].values[0]\n",
    "    title_ofer_total = [\"Total\"]\n",
    "    if(not(L)):\n",
    "        return [title_ofer_eprimary,title_ofer_der_petro,title_ofer_electricity,\n",
    "                    title_ofer_der_carbon,title_ofer_gas_corriente,title_ofer_metanol,\n",
    "                    title_ofer_total]\n",
    "    else:\n",
    "        return [title_ofer_eprimary,title_ofer_der_petro,title_ofer_electricity,\n",
    "                title_ofer_der_carbon,title_ofer_metanol,title_ofer_total]\n",
    "\n",
    "titles_list = extractColTitles(result,False)"
   ]
  },
  {
   "cell_type": "code",
   "execution_count": 17,
   "id": "e5c3dcb1",
   "metadata": {},
   "outputs": [
    {
     "data": {
      "text/plain": [
       "[2010, 2011, 2012, 2013, 2014, 2015]"
      ]
     },
     "execution_count": 17,
     "metadata": {},
     "output_type": "execute_result"
    }
   ],
   "source": [
    "anual = list(range(2010,2016))\n",
    "anual"
   ]
  },
  {
   "cell_type": "code",
   "execution_count": 64,
   "id": "bc202856",
   "metadata": {},
   "outputs": [
    {
     "name": "stdout",
     "output_type": "stream",
     "text": [
      "0\n",
      "1\n",
      "2\n",
      "3\n",
      "4\n",
      "5\n",
      "Wall time: 360 ms\n"
     ]
    }
   ],
   "source": [
    "%%time\n",
    "data_offers = {}\n",
    "data_ctransfo = {}\n",
    "data_consumption = {}\n",
    "for i in range(len(anual)):\n",
    "    print(i)\n",
    "    #data_offers[str(anual[i])] = transfoDataOferta(i,result,genDictionary(),titles_list)\n",
    "    #data_ctransfo[str(anual[i])] = transfoDataConsumptionTransfo(i,result,genDictionary(),titles_list)\n",
    "    data_consumption[str(anual[i])] = transfoDataConsumptionFinal(i,result,genDictionary(),titles_list)"
   ]
  },
  {
   "cell_type": "code",
   "execution_count": 14,
   "id": "9ad5eaae",
   "metadata": {},
   "outputs": [],
   "source": [
    "#genDictionary()"
   ]
  },
  {
   "cell_type": "code",
   "execution_count": 70,
   "id": "e9fff461",
   "metadata": {},
   "outputs": [
    {
     "data": {
      "text/plain": [
       "37    30.650443\n",
       "38    30.621143\n",
       "39            0\n",
       "40       0.0269\n",
       "41       0.0024\n",
       "Name: Gas Licuado (Mil ton), dtype: object"
      ]
     },
     "execution_count": 70,
     "metadata": {},
     "output_type": "execute_result"
    }
   ],
   "source": [
    "#['Sec. Consumo_propio','Sec. Industrial_y_minero',\n",
    "#                        'Sec. Transporte','Sec. Comercial_publ_residential']\n",
    "\n",
    "data_consumption['2015']['Consumo_final']['Sec. Consumo_propio']['col_2']['Derivados_Petroleos']['Gas Licuado (Mil ton)']"
   ]
  },
  {
   "cell_type": "code",
   "execution_count": 74,
   "id": "fd3c1e6d",
   "metadata": {},
   "outputs": [
    {
     "data": {
      "text/plain": [
       "Index(['Petróleo Diesel (Mil m3)', 'Petróleo Combustible (Mil ton)',\n",
       "       'Gasolina de Motor (Mil m3)', 'Kerosene (Mil m3)',\n",
       "       'Gas Licuado (Mil ton)', 'Gasolina de Aviación (Mil m3)',\n",
       "       'Kerosene de Aviación (Mil m3)', 'Nafta (Mil m3)',\n",
       "       'Gas de Refinería (Mil m3)', 'Coque de Petróleo (Mil ton)',\n",
       "       'D.I. de Petróleo (Mil ton)'],\n",
       "      dtype='object')"
      ]
     },
     "execution_count": 74,
     "metadata": {},
     "output_type": "execute_result"
    }
   ],
   "source": [
    "data_consumption['2015']['Consumo_final']['Sec. Consumo_propio']['col_3']['Derivados_Petroleos'].keys()"
   ]
  },
  {
   "cell_type": "code",
   "execution_count": null,
   "id": "9b43a0ed",
   "metadata": {},
   "outputs": [],
   "source": [
    "data_consumption['2010']['Consumo_final']['Sec. Consumo_propio']['col_3']['Petróleo Diesel (Mil m3)']"
   ]
  },
  {
   "cell_type": "code",
   "execution_count": null,
   "id": "0f1bcfc0",
   "metadata": {},
   "outputs": [],
   "source": []
  },
  {
   "cell_type": "code",
   "execution_count": null,
   "id": "60f30255",
   "metadata": {},
   "outputs": [],
   "source": [
    "data_consumption['2010']['Consumo_final']['Sec. Consumo_propio']['col_3']['Petróleo Diesel (Mil m3)']"
   ]
  },
  {
   "cell_type": "code",
   "execution_count": null,
   "id": "8c92910e",
   "metadata": {},
   "outputs": [],
   "source": [
    "data_consumption['2010']['Consumo_final']['Sec. Consumo_propio']['col_0']['Energeticos_primarios']"
   ]
  },
  {
   "cell_type": "code",
   "execution_count": null,
   "id": "f152cf9b",
   "metadata": {},
   "outputs": [],
   "source": [
    "data_consumption['2020']['Consumo_final']['Sec. Consumo_propio']['col_0']['Energeticos_primarios']"
   ]
  },
  {
   "cell_type": "code",
   "execution_count": 19,
   "id": "21940d62",
   "metadata": {},
   "outputs": [],
   "source": [
    "linea_temporal = []\n",
    "for i in range(2010,2016):\n",
    "    linea_temporal.append(str(i))"
   ]
  },
  {
   "cell_type": "code",
   "execution_count": null,
   "id": "b03fff3a",
   "metadata": {},
   "outputs": [],
   "source": [
    "#### extraccion sectores comerciales publicos "
   ]
  },
  {
   "cell_type": "code",
   "execution_count": null,
   "id": "294970e0",
   "metadata": {},
   "outputs": [],
   "source": [
    "col_df = ['Energeticos_primarios','Derivados_Petroleos','Electricidad Gwh',\n",
    "              'Derivados_Carbon','Gas_Corriente Mill m3','Metanol Mill ton','Total']"
   ]
  },
  {
   "cell_type": "code",
   "execution_count": 84,
   "id": "7f0094b0",
   "metadata": {},
   "outputs": [],
   "source": [
    "#col 2\n",
    "data = []\n",
    "for i in range(2010,2015):\n",
    "    data.append(pd.concat([data_consumption[str(i)]['Consumo_final']['Sec. Consumo_propio']['col_2']['Energeticos_primarios'].iloc[:,:1],\n",
    "                           data_consumption[str(i)]['Consumo_final']['Sec. Consumo_propio']['col_2']['Derivados_Petroleos']['Gas Licuado (Mil ton)'],\n",
    "                           data_consumption[str(i)]['Consumo_final']['Sec. Consumo_propio']['col_2']['Derivados_Petroleos']['Petróleo Diesel (Mil m3)'],\n",
    "                           data_consumption[str(i)]['Consumo_final']['Sec. Consumo_propio']['col_2']['Electricidad Gwh']],axis=1))"
   ]
  },
  {
   "cell_type": "code",
   "execution_count": null,
   "id": "3e5983d3",
   "metadata": {},
   "outputs": [],
   "source": []
  },
  {
   "cell_type": "code",
   "execution_count": 90,
   "id": "2dc7722b",
   "metadata": {},
   "outputs": [],
   "source": [
    "datito =  pd.concat(data,axis=0).reset_index(drop=True)\n",
    "datito.to_csv(\"2010_2015_sector_transaporte.csv\")\n",
    "datito.head(10)"
   ]
  },
  {
   "cell_type": "code",
   "execution_count": 89,
   "id": "56fadac8",
   "metadata": {},
   "outputs": [
    {
     "data": {
      "text/html": [
       "<div>\n",
       "<style scoped>\n",
       "    .dataframe tbody tr th:only-of-type {\n",
       "        vertical-align: middle;\n",
       "    }\n",
       "\n",
       "    .dataframe tbody tr th {\n",
       "        vertical-align: top;\n",
       "    }\n",
       "\n",
       "    .dataframe thead th {\n",
       "        text-align: right;\n",
       "    }\n",
       "</style>\n",
       "<table border=\"1\" class=\"dataframe\">\n",
       "  <thead>\n",
       "    <tr style=\"text-align: right;\">\n",
       "      <th></th>\n",
       "      <th>Item</th>\n",
       "      <th>Gas Licuado (Mil ton)</th>\n",
       "      <th>Petróleo Diesel (Mil m3)</th>\n",
       "      <th>Electricidad (Gwh)</th>\n",
       "      <th>Item</th>\n",
       "      <th>Gas Licuado (Mil ton)</th>\n",
       "      <th>Petróleo Diesel (Mil m3)</th>\n",
       "      <th>Electricidad (Gwh)</th>\n",
       "      <th>Item</th>\n",
       "      <th>Gas Licuado (Mil ton)</th>\n",
       "      <th>Petróleo Diesel (Mil m3)</th>\n",
       "      <th>Electricidad (Gwh)</th>\n",
       "      <th>Item</th>\n",
       "      <th>Gas Licuado (Mil ton)</th>\n",
       "      <th>Petróleo Diesel (Mil m3)</th>\n",
       "      <th>Electricidad (Gwh)</th>\n",
       "      <th>Item</th>\n",
       "      <th>Gas Licuado (Mil ton)</th>\n",
       "      <th>Petróleo Diesel (Mil m3)</th>\n",
       "      <th>Electricidad (Gwh)</th>\n",
       "    </tr>\n",
       "  </thead>\n",
       "  <tbody>\n",
       "    <tr>\n",
       "      <th>0</th>\n",
       "      <td>Sector Transporte</td>\n",
       "      <td>11.276404</td>\n",
       "      <td>4011.869864</td>\n",
       "      <td>436.559662</td>\n",
       "      <td>Sector Transporte</td>\n",
       "      <td>23.844223</td>\n",
       "      <td>4522.905983</td>\n",
       "      <td>477.522983</td>\n",
       "      <td>Sector Transporte</td>\n",
       "      <td>54.933761</td>\n",
       "      <td>4610.413978</td>\n",
       "      <td>474.104274</td>\n",
       "      <td>Sector Transporte</td>\n",
       "      <td>61.857716</td>\n",
       "      <td>4965.49739</td>\n",
       "      <td>510.92595</td>\n",
       "      <td>Sector Transporte</td>\n",
       "      <td>56.379596</td>\n",
       "      <td>4212.180617</td>\n",
       "      <td>944.367365</td>\n",
       "    </tr>\n",
       "    <tr>\n",
       "      <th>1</th>\n",
       "      <td>Terrestre</td>\n",
       "      <td>11.272504</td>\n",
       "      <td>3804.194277</td>\n",
       "      <td>36.147815</td>\n",
       "      <td>Terrestre</td>\n",
       "      <td>23.766641</td>\n",
       "      <td>4355.662208</td>\n",
       "      <td>103.512</td>\n",
       "      <td>Terrestre</td>\n",
       "      <td>54.905347</td>\n",
       "      <td>4450.790956</td>\n",
       "      <td>97.684443</td>\n",
       "      <td>Terrestre</td>\n",
       "      <td>61.706316</td>\n",
       "      <td>4802.88399</td>\n",
       "      <td>117.623937</td>\n",
       "      <td>Terrestre</td>\n",
       "      <td>56.348687</td>\n",
       "      <td>4103.203835</td>\n",
       "      <td>494.346115</td>\n",
       "    </tr>\n",
       "    <tr>\n",
       "      <th>2</th>\n",
       "      <td>Ferroviario</td>\n",
       "      <td>0</td>\n",
       "      <td>50.645189</td>\n",
       "      <td>395.492825</td>\n",
       "      <td>Ferroviario</td>\n",
       "      <td>0</td>\n",
       "      <td>52.501478</td>\n",
       "      <td>374.010983</td>\n",
       "      <td>Ferroviario</td>\n",
       "      <td>0.001497</td>\n",
       "      <td>52.82472</td>\n",
       "      <td>376.419831</td>\n",
       "      <td>Ferroviario</td>\n",
       "      <td>0</td>\n",
       "      <td>23.162551</td>\n",
       "      <td>393.302013</td>\n",
       "      <td>Ferroviario</td>\n",
       "      <td>0</td>\n",
       "      <td>12.003008</td>\n",
       "      <td>450.02125</td>\n",
       "    </tr>\n",
       "    <tr>\n",
       "      <th>3</th>\n",
       "      <td>Marítimo</td>\n",
       "      <td>0.0039</td>\n",
       "      <td>156.340398</td>\n",
       "      <td>4.919022</td>\n",
       "      <td>Marítimo</td>\n",
       "      <td>0.029784</td>\n",
       "      <td>113.753297</td>\n",
       "      <td>0</td>\n",
       "      <td>Marítimo</td>\n",
       "      <td>0.026916</td>\n",
       "      <td>105.648003</td>\n",
       "      <td>0</td>\n",
       "      <td>Marítimo</td>\n",
       "      <td>0.040082</td>\n",
       "      <td>137.759849</td>\n",
       "      <td>0</td>\n",
       "      <td>Marítimo</td>\n",
       "      <td>0.029091</td>\n",
       "      <td>93.673954</td>\n",
       "      <td>0</td>\n",
       "    </tr>\n",
       "    <tr>\n",
       "      <th>4</th>\n",
       "      <td>Aéreo</td>\n",
       "      <td>0</td>\n",
       "      <td>0.69</td>\n",
       "      <td>0</td>\n",
       "      <td>Aéreo</td>\n",
       "      <td>0.047798</td>\n",
       "      <td>0.989</td>\n",
       "      <td>0</td>\n",
       "      <td>Aéreo</td>\n",
       "      <td>0</td>\n",
       "      <td>1.150299</td>\n",
       "      <td>0</td>\n",
       "      <td>Aéreo</td>\n",
       "      <td>0.111318</td>\n",
       "      <td>1.691</td>\n",
       "      <td>0</td>\n",
       "      <td>Aéreo</td>\n",
       "      <td>0.001818</td>\n",
       "      <td>3.29982</td>\n",
       "      <td>0</td>\n",
       "    </tr>\n",
       "  </tbody>\n",
       "</table>\n",
       "</div>"
      ],
      "text/plain": [
       "                Item Gas Licuado (Mil ton) Petróleo Diesel (Mil m3)  \\\n",
       "0  Sector Transporte             11.276404              4011.869864   \n",
       "1          Terrestre             11.272504              3804.194277   \n",
       "2        Ferroviario                     0                50.645189   \n",
       "3           Marítimo                0.0039               156.340398   \n",
       "4              Aéreo                     0                     0.69   \n",
       "\n",
       "  Electricidad (Gwh)               Item Gas Licuado (Mil ton)  \\\n",
       "0         436.559662  Sector Transporte             23.844223   \n",
       "1          36.147815          Terrestre             23.766641   \n",
       "2         395.492825        Ferroviario                     0   \n",
       "3           4.919022           Marítimo              0.029784   \n",
       "4                  0              Aéreo              0.047798   \n",
       "\n",
       "  Petróleo Diesel (Mil m3) Electricidad (Gwh)               Item  \\\n",
       "0              4522.905983         477.522983  Sector Transporte   \n",
       "1              4355.662208            103.512          Terrestre   \n",
       "2                52.501478         374.010983        Ferroviario   \n",
       "3               113.753297                  0           Marítimo   \n",
       "4                    0.989                  0              Aéreo   \n",
       "\n",
       "  Gas Licuado (Mil ton) Petróleo Diesel (Mil m3) Electricidad (Gwh)  \\\n",
       "0             54.933761              4610.413978         474.104274   \n",
       "1             54.905347              4450.790956          97.684443   \n",
       "2              0.001497                 52.82472         376.419831   \n",
       "3              0.026916               105.648003                  0   \n",
       "4                     0                 1.150299                  0   \n",
       "\n",
       "                Item Gas Licuado (Mil ton) Petróleo Diesel (Mil m3)  \\\n",
       "0  Sector Transporte             61.857716               4965.49739   \n",
       "1          Terrestre             61.706316               4802.88399   \n",
       "2        Ferroviario                     0                23.162551   \n",
       "3           Marítimo              0.040082               137.759849   \n",
       "4              Aéreo              0.111318                    1.691   \n",
       "\n",
       "  Electricidad (Gwh)               Item Gas Licuado (Mil ton)  \\\n",
       "0          510.92595  Sector Transporte             56.379596   \n",
       "1         117.623937          Terrestre             56.348687   \n",
       "2         393.302013        Ferroviario                     0   \n",
       "3                  0           Marítimo              0.029091   \n",
       "4                  0              Aéreo              0.001818   \n",
       "\n",
       "  Petróleo Diesel (Mil m3) Electricidad (Gwh)  \n",
       "0              4212.180617         944.367365  \n",
       "1              4103.203835         494.346115  \n",
       "2                12.003008          450.02125  \n",
       "3                93.673954                  0  \n",
       "4                  3.29982                  0  "
      ]
     },
     "execution_count": 89,
     "metadata": {},
     "output_type": "execute_result"
    }
   ],
   "source": []
  },
  {
   "cell_type": "code",
   "execution_count": null,
   "id": "b74ac429",
   "metadata": {},
   "outputs": [],
   "source": []
  },
  {
   "cell_type": "code",
   "execution_count": 116,
   "id": "cc3523b5",
   "metadata": {},
   "outputs": [],
   "source": [
    "#col 3\n",
    "data = []\n",
    "data_temp = []\n",
    "for i in range(2010,2016):\n",
    "    data.append(pd.concat([data_consumption[str(i)]['Consumo_final']['Sec. Consumo_propio']['col_3']['Energeticos_primarios'].iloc[:,:1],\n",
    "                           data_consumption[str(i)]['Consumo_final']['Sec. Consumo_propio']['col_3']['Derivados_Petroleos']['Gas Licuado (Mil ton)'],\n",
    "                           data_consumption[str(i)]['Consumo_final']['Sec. Consumo_propio']['col_3']['Derivados_Petroleos']['Petróleo Diesel (Mil m3)'],\n",
    "                           data_consumption[str(i)]['Consumo_final']['Sec. Consumo_propio']['col_3']['Electricidad Gwh']],axis=1))\n",
    "    data_temp.append([i,data[-1][\"Gas Licuado (Mil ton)\"].mean(),\n",
    "                       data[-1][\"Petróleo Diesel (Mil m3)\"].mean(),\n",
    "                       data[-1][\"Electricidad (Gwh)\"].mean(),\n",
    "                       data[-1][\"Gas Licuado (Mil ton)\"].sum(),\n",
    "                       data[-1][\"Petróleo Diesel (Mil m3)\"].sum(),\n",
    "                       data[-1][\"Electricidad (Gwh)\"].sum()])"
   ]
  },
  {
   "cell_type": "code",
   "execution_count": 117,
   "id": "4c03152e",
   "metadata": {},
   "outputs": [
    {
     "data": {
      "text/html": [
       "<div>\n",
       "<style scoped>\n",
       "    .dataframe tbody tr th:only-of-type {\n",
       "        vertical-align: middle;\n",
       "    }\n",
       "\n",
       "    .dataframe tbody tr th {\n",
       "        vertical-align: top;\n",
       "    }\n",
       "\n",
       "    .dataframe thead th {\n",
       "        text-align: right;\n",
       "    }\n",
       "</style>\n",
       "<table border=\"1\" class=\"dataframe\">\n",
       "  <thead>\n",
       "    <tr style=\"text-align: right;\">\n",
       "      <th></th>\n",
       "      <th>date</th>\n",
       "      <th>gas licuado media</th>\n",
       "      <th>petroleo Diesel media</th>\n",
       "      <th>Elect media</th>\n",
       "      <th>gas licuado total</th>\n",
       "      <th>petroleo Diesel total</th>\n",
       "      <th>Elect total</th>\n",
       "    </tr>\n",
       "  </thead>\n",
       "  <tbody>\n",
       "    <tr>\n",
       "      <th>0</th>\n",
       "      <td>2010</td>\n",
       "      <td>650.901591</td>\n",
       "      <td>132.004864</td>\n",
       "      <td>7350.022572</td>\n",
       "      <td>3254.507956</td>\n",
       "      <td>660.024320</td>\n",
       "      <td>36750.112860</td>\n",
       "    </tr>\n",
       "    <tr>\n",
       "      <th>1</th>\n",
       "      <td>2011</td>\n",
       "      <td>666.234142</td>\n",
       "      <td>211.755502</td>\n",
       "      <td>7561.266363</td>\n",
       "      <td>3331.170708</td>\n",
       "      <td>1058.777510</td>\n",
       "      <td>37806.331814</td>\n",
       "    </tr>\n",
       "    <tr>\n",
       "      <th>2</th>\n",
       "      <td>2012</td>\n",
       "      <td>689.778956</td>\n",
       "      <td>116.861427</td>\n",
       "      <td>7783.808807</td>\n",
       "      <td>3448.894780</td>\n",
       "      <td>584.307135</td>\n",
       "      <td>38919.044036</td>\n",
       "    </tr>\n",
       "    <tr>\n",
       "      <th>3</th>\n",
       "      <td>2013</td>\n",
       "      <td>625.407283</td>\n",
       "      <td>114.013532</td>\n",
       "      <td>8710.358884</td>\n",
       "      <td>3127.036414</td>\n",
       "      <td>570.067660</td>\n",
       "      <td>43551.794418</td>\n",
       "    </tr>\n",
       "    <tr>\n",
       "      <th>4</th>\n",
       "      <td>2014</td>\n",
       "      <td>617.604855</td>\n",
       "      <td>74.777491</td>\n",
       "      <td>9162.434330</td>\n",
       "      <td>3088.024274</td>\n",
       "      <td>373.887454</td>\n",
       "      <td>45812.171652</td>\n",
       "    </tr>\n",
       "  </tbody>\n",
       "</table>\n",
       "</div>"
      ],
      "text/plain": [
       "   date  gas licuado media  petroleo Diesel media  Elect media  \\\n",
       "0  2010         650.901591             132.004864  7350.022572   \n",
       "1  2011         666.234142             211.755502  7561.266363   \n",
       "2  2012         689.778956             116.861427  7783.808807   \n",
       "3  2013         625.407283             114.013532  8710.358884   \n",
       "4  2014         617.604855              74.777491  9162.434330   \n",
       "\n",
       "   gas licuado total  petroleo Diesel total   Elect total  \n",
       "0        3254.507956             660.024320  36750.112860  \n",
       "1        3331.170708            1058.777510  37806.331814  \n",
       "2        3448.894780             584.307135  38919.044036  \n",
       "3        3127.036414             570.067660  43551.794418  \n",
       "4        3088.024274             373.887454  45812.171652  "
      ]
     },
     "execution_count": 117,
     "metadata": {},
     "output_type": "execute_result"
    }
   ],
   "source": [
    "data_statistics = pd.DataFrame(data_temp)\n",
    "data_statistics.columns = [\"date\",\"gas licuado media\",\"petroleo Diesel media\",\"Elect media\",\n",
    "                  \"gas licuado total\",\"petroleo Diesel total\",\"Elect total\"]\n",
    "data_statistics.head()"
   ]
  },
  {
   "cell_type": "code",
   "execution_count": 125,
   "id": "77403edc",
   "metadata": {},
   "outputs": [
    {
     "data": {
      "image/png": "[encoded data removed]",
      "text/plain": [
       "<Figure size 1152x360 with 1 Axes>"
      ]
     },
     "metadata": {
      "needs_background": "light"
     },
     "output_type": "display_data"
    }
   ],
   "source": [
    "import matplotlib.pyplot as plt\n",
    "\n",
    "fig, ax = plt.subplots(figsize=(16,5))\n",
    "ax.plot(data_statistics.date,data_statistics[\"Elect media\"],label=\"Electricidad (Gwh)\")\n",
    "plt.xlabel(\"Time\",fontsize=\"22\")\n",
    "plt.ylabel(\"Giga Watts por Hora\",fontsize=\"22\")\n",
    "plt.title(\"Promedio de Consumo de Electricidad Sector comercial, público y Residencial \",fontsize=\"22\")\n",
    "plt.show()"
   ]
  },
  {
   "cell_type": "code",
   "execution_count": 126,
   "id": "2f73c0aa",
   "metadata": {},
   "outputs": [
    {
     "data": {
      "image/png": "[encoded data removed]",
      "text/plain": [
       "<Figure size 1152x360 with 1 Axes>"
      ]
     },
     "metadata": {
      "needs_background": "light"
     },
     "output_type": "display_data"
    }
   ],
   "source": [
    "fig, ax = plt.subplots(figsize=(16,5))\n",
    "\n",
    "ax.plot(data_statistics.date,data_statistics[\"gas licuado media\"],label=\"gas licuado (Mil ton)\")\n",
    "ax.plot(data_statistics.date,data_statistics[\"petroleo Diesel media\"],label=\"petroleo Diesel (Mil ton)\")\n",
    "plt.xlabel(\"Time\",fontsize=\"22\")\n",
    "plt.ylabel(\"(Mil ton)\",fontsize=\"22\")\n",
    "plt.title(\"Promedio ded Consumo energetico del Gas Licuado y Petroleo Diesel \",fontsize=\"22\")\n",
    "plt.show()"
   ]
  },
  {
   "cell_type": "code",
   "execution_count": null,
   "id": "9edc5e1a",
   "metadata": {},
   "outputs": [],
   "source": []
  },
  {
   "cell_type": "code",
   "execution_count": null,
   "id": "eca35ac0",
   "metadata": {},
   "outputs": [],
   "source": []
  },
  {
   "cell_type": "code",
   "execution_count": null,
   "id": "c13d5629",
   "metadata": {},
   "outputs": [],
   "source": []
  },
  {
   "cell_type": "code",
   "execution_count": 124,
   "id": "dacae053",
   "metadata": {},
   "outputs": [],
   "source": [
    "#df =  pd.concat(data,axis=1).reset_index(drop=True)\n",
    "#df.to_csv(\"2010_2015_sector_transaporte.csv\")\n",
    "#df.head(10)"
   ]
  },
  {
   "cell_type": "code",
   "execution_count": null,
   "id": "398698f5",
   "metadata": {},
   "outputs": [],
   "source": []
  },
  {
   "cell_type": "code",
   "execution_count": null,
   "id": "30bcf380",
   "metadata": {},
   "outputs": [],
   "source": []
  }
 ],
 "metadata": {
  "kernelspec": {
   "display_name": "Python 3 (ipykernel)",
   "language": "python",
   "name": "python3"
  },
  "language_info": {
   "codemirror_mode": {
    "name": "ipython",
    "version": 3
   },
   "file_extension": ".py",
   "mimetype": "text/x-python",
   "name": "python",
   "nbconvert_exporter": "python",
   "pygments_lexer": "ipython3",
   "version": "3.9.7"
  }
 },
 "nbformat": 4,
 "nbformat_minor": 5
}
